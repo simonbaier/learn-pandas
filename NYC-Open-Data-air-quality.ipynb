{
 "cells": [
  {
   "cell_type": "code",
   "execution_count": 9,
   "metadata": {},
   "outputs": [],
   "source": [
    "import pandas as pd "
   ]
  },
  {
   "cell_type": "code",
   "execution_count": 11,
   "metadata": {},
   "outputs": [],
   "source": [
    "addr = \"Air_Quality.csv\"\n",
    "df = pd.read_csv(addr)\n"
   ]
  },
  {
   "cell_type": "code",
   "execution_count": 12,
   "metadata": {},
   "outputs": [
    {
     "data": {
      "text/html": [
       "<div>\n",
       "<style scoped>\n",
       "    .dataframe tbody tr th:only-of-type {\n",
       "        vertical-align: middle;\n",
       "    }\n",
       "\n",
       "    .dataframe tbody tr th {\n",
       "        vertical-align: top;\n",
       "    }\n",
       "\n",
       "    .dataframe thead th {\n",
       "        text-align: right;\n",
       "    }\n",
       "</style>\n",
       "<table border=\"1\" class=\"dataframe\">\n",
       "  <thead>\n",
       "    <tr style=\"text-align: right;\">\n",
       "      <th></th>\n",
       "      <th>indicator_data_id</th>\n",
       "      <th>indicator_id</th>\n",
       "      <th>name</th>\n",
       "      <th>Measure</th>\n",
       "      <th>geo_type_name</th>\n",
       "      <th>geo_entity_id</th>\n",
       "      <th>geo_entity_name</th>\n",
       "      <th>year_description</th>\n",
       "      <th>data_valuemessage</th>\n",
       "    </tr>\n",
       "  </thead>\n",
       "  <tbody>\n",
       "    <tr>\n",
       "      <th>0</th>\n",
       "      <td>130728</td>\n",
       "      <td>646</td>\n",
       "      <td>Air Toxics Concentrations- Average Benzene Con...</td>\n",
       "      <td>Average Concentration</td>\n",
       "      <td>Borough</td>\n",
       "      <td>1</td>\n",
       "      <td>Bronx</td>\n",
       "      <td>2005</td>\n",
       "      <td>2.8</td>\n",
       "    </tr>\n",
       "    <tr>\n",
       "      <th>1</th>\n",
       "      <td>130729</td>\n",
       "      <td>646</td>\n",
       "      <td>Air Toxics Concentrations- Average Benzene Con...</td>\n",
       "      <td>Average Concentration</td>\n",
       "      <td>Borough</td>\n",
       "      <td>2</td>\n",
       "      <td>Brooklyn</td>\n",
       "      <td>2005</td>\n",
       "      <td>2.8</td>\n",
       "    </tr>\n",
       "    <tr>\n",
       "      <th>2</th>\n",
       "      <td>130730</td>\n",
       "      <td>646</td>\n",
       "      <td>Air Toxics Concentrations- Average Benzene Con...</td>\n",
       "      <td>Average Concentration</td>\n",
       "      <td>Borough</td>\n",
       "      <td>3</td>\n",
       "      <td>Manhattan</td>\n",
       "      <td>2005</td>\n",
       "      <td>4.7</td>\n",
       "    </tr>\n",
       "    <tr>\n",
       "      <th>3</th>\n",
       "      <td>130731</td>\n",
       "      <td>646</td>\n",
       "      <td>Air Toxics Concentrations- Average Benzene Con...</td>\n",
       "      <td>Average Concentration</td>\n",
       "      <td>Borough</td>\n",
       "      <td>4</td>\n",
       "      <td>Queens</td>\n",
       "      <td>2005</td>\n",
       "      <td>1.9</td>\n",
       "    </tr>\n",
       "    <tr>\n",
       "      <th>4</th>\n",
       "      <td>130732</td>\n",
       "      <td>646</td>\n",
       "      <td>Air Toxics Concentrations- Average Benzene Con...</td>\n",
       "      <td>Average Concentration</td>\n",
       "      <td>Borough</td>\n",
       "      <td>5</td>\n",
       "      <td>Staten Island</td>\n",
       "      <td>2005</td>\n",
       "      <td>1.6</td>\n",
       "    </tr>\n",
       "  </tbody>\n",
       "</table>\n",
       "</div>"
      ],
      "text/plain": [
       "   indicator_data_id  indicator_id  \\\n",
       "0             130728           646   \n",
       "1             130729           646   \n",
       "2             130730           646   \n",
       "3             130731           646   \n",
       "4             130732           646   \n",
       "\n",
       "                                                name                Measure  \\\n",
       "0  Air Toxics Concentrations- Average Benzene Con...  Average Concentration   \n",
       "1  Air Toxics Concentrations- Average Benzene Con...  Average Concentration   \n",
       "2  Air Toxics Concentrations- Average Benzene Con...  Average Concentration   \n",
       "3  Air Toxics Concentrations- Average Benzene Con...  Average Concentration   \n",
       "4  Air Toxics Concentrations- Average Benzene Con...  Average Concentration   \n",
       "\n",
       "  geo_type_name  geo_entity_id geo_entity_name year_description  \\\n",
       "0       Borough              1           Bronx             2005   \n",
       "1       Borough              2        Brooklyn             2005   \n",
       "2       Borough              3       Manhattan             2005   \n",
       "3       Borough              4          Queens             2005   \n",
       "4       Borough              5   Staten Island             2005   \n",
       "\n",
       "  data_valuemessage  \n",
       "0               2.8  \n",
       "1               2.8  \n",
       "2               4.7  \n",
       "3               1.9  \n",
       "4               1.6  "
      ]
     },
     "execution_count": 12,
     "metadata": {},
     "output_type": "execute_result"
    }
   ],
   "source": [
    "df.head()"
   ]
  },
  {
   "cell_type": "code",
   "execution_count": null,
   "metadata": {},
   "outputs": [],
   "source": []
  },
  {
   "cell_type": "code",
   "execution_count": null,
   "metadata": {},
   "outputs": [],
   "source": []
  },
  {
   "cell_type": "code",
   "execution_count": null,
   "metadata": {},
   "outputs": [],
   "source": []
  },
  {
   "cell_type": "code",
   "execution_count": null,
   "metadata": {},
   "outputs": [],
   "source": []
  },
  {
   "cell_type": "code",
   "execution_count": null,
   "metadata": {},
   "outputs": [],
   "source": []
  },
  {
   "cell_type": "code",
   "execution_count": null,
   "metadata": {},
   "outputs": [],
   "source": []
  },
  {
   "cell_type": "code",
   "execution_count": null,
   "metadata": {},
   "outputs": [],
   "source": []
  },
  {
   "cell_type": "code",
   "execution_count": null,
   "metadata": {},
   "outputs": [],
   "source": []
  }
 ],
 "metadata": {
  "kernelspec": {
   "display_name": "Python 3",
   "language": "python",
   "name": "python3"
  },
  "language_info": {
   "codemirror_mode": {
    "name": "ipython",
    "version": 3
   },
   "file_extension": ".py",
   "mimetype": "text/x-python",
   "name": "python",
   "nbconvert_exporter": "python",
   "pygments_lexer": "ipython3",
   "version": "3.6.3"
  }
 },
 "nbformat": 4,
 "nbformat_minor": 2
}
